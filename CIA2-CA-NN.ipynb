{
 "cells": [
  {
   "cell_type": "code",
   "execution_count": 28,
   "id": "d4bf1d3d",
   "metadata": {},
   "outputs": [],
   "source": [
    "import pandas as pd\n",
    "import numpy as np\n",
    "import matplotlib.pyplot as plt\n",
    "import seaborn as sns"
   ]
  },
  {
   "cell_type": "code",
   "execution_count": 29,
   "id": "d5e5d610",
   "metadata": {
    "scrolled": true
   },
   "outputs": [
    {
     "data": {
      "text/html": [
       "<div>\n",
       "<style scoped>\n",
       "    .dataframe tbody tr th:only-of-type {\n",
       "        vertical-align: middle;\n",
       "    }\n",
       "\n",
       "    .dataframe tbody tr th {\n",
       "        vertical-align: top;\n",
       "    }\n",
       "\n",
       "    .dataframe thead th {\n",
       "        text-align: right;\n",
       "    }\n",
       "</style>\n",
       "<table border=\"1\" class=\"dataframe\">\n",
       "  <thead>\n",
       "    <tr style=\"text-align: right;\">\n",
       "      <th></th>\n",
       "      <th>ID</th>\n",
       "      <th>Age</th>\n",
       "      <th>Experience</th>\n",
       "      <th>Income</th>\n",
       "      <th>ZIP Code</th>\n",
       "      <th>Family</th>\n",
       "      <th>CCAvg</th>\n",
       "      <th>Education</th>\n",
       "      <th>Mortgage</th>\n",
       "      <th>Personal Loan</th>\n",
       "      <th>Securities Account</th>\n",
       "      <th>CD Account</th>\n",
       "      <th>Online</th>\n",
       "      <th>CreditCard</th>\n",
       "    </tr>\n",
       "  </thead>\n",
       "  <tbody>\n",
       "    <tr>\n",
       "      <th>0</th>\n",
       "      <td>1</td>\n",
       "      <td>25</td>\n",
       "      <td>1</td>\n",
       "      <td>49</td>\n",
       "      <td>91107</td>\n",
       "      <td>4</td>\n",
       "      <td>1.6</td>\n",
       "      <td>1</td>\n",
       "      <td>0</td>\n",
       "      <td>0</td>\n",
       "      <td>1</td>\n",
       "      <td>0</td>\n",
       "      <td>0</td>\n",
       "      <td>0</td>\n",
       "    </tr>\n",
       "    <tr>\n",
       "      <th>1</th>\n",
       "      <td>2</td>\n",
       "      <td>45</td>\n",
       "      <td>19</td>\n",
       "      <td>34</td>\n",
       "      <td>90089</td>\n",
       "      <td>3</td>\n",
       "      <td>1.5</td>\n",
       "      <td>1</td>\n",
       "      <td>0</td>\n",
       "      <td>0</td>\n",
       "      <td>1</td>\n",
       "      <td>0</td>\n",
       "      <td>0</td>\n",
       "      <td>0</td>\n",
       "    </tr>\n",
       "    <tr>\n",
       "      <th>2</th>\n",
       "      <td>3</td>\n",
       "      <td>39</td>\n",
       "      <td>15</td>\n",
       "      <td>11</td>\n",
       "      <td>94720</td>\n",
       "      <td>1</td>\n",
       "      <td>1.0</td>\n",
       "      <td>1</td>\n",
       "      <td>0</td>\n",
       "      <td>0</td>\n",
       "      <td>0</td>\n",
       "      <td>0</td>\n",
       "      <td>0</td>\n",
       "      <td>0</td>\n",
       "    </tr>\n",
       "    <tr>\n",
       "      <th>3</th>\n",
       "      <td>4</td>\n",
       "      <td>35</td>\n",
       "      <td>9</td>\n",
       "      <td>100</td>\n",
       "      <td>94112</td>\n",
       "      <td>1</td>\n",
       "      <td>2.7</td>\n",
       "      <td>2</td>\n",
       "      <td>0</td>\n",
       "      <td>0</td>\n",
       "      <td>0</td>\n",
       "      <td>0</td>\n",
       "      <td>0</td>\n",
       "      <td>0</td>\n",
       "    </tr>\n",
       "    <tr>\n",
       "      <th>4</th>\n",
       "      <td>5</td>\n",
       "      <td>35</td>\n",
       "      <td>8</td>\n",
       "      <td>45</td>\n",
       "      <td>91330</td>\n",
       "      <td>4</td>\n",
       "      <td>1.0</td>\n",
       "      <td>2</td>\n",
       "      <td>0</td>\n",
       "      <td>0</td>\n",
       "      <td>0</td>\n",
       "      <td>0</td>\n",
       "      <td>0</td>\n",
       "      <td>1</td>\n",
       "    </tr>\n",
       "  </tbody>\n",
       "</table>\n",
       "</div>"
      ],
      "text/plain": [
       "   ID  Age  Experience  Income  ZIP Code  Family  CCAvg  Education  Mortgage  \\\n",
       "0   1   25           1      49     91107       4    1.6          1         0   \n",
       "1   2   45          19      34     90089       3    1.5          1         0   \n",
       "2   3   39          15      11     94720       1    1.0          1         0   \n",
       "3   4   35           9     100     94112       1    2.7          2         0   \n",
       "4   5   35           8      45     91330       4    1.0          2         0   \n",
       "\n",
       "   Personal Loan  Securities Account  CD Account  Online  CreditCard  \n",
       "0              0                   1           0       0           0  \n",
       "1              0                   1           0       0           0  \n",
       "2              0                   0           0       0           0  \n",
       "3              0                   0           0       0           0  \n",
       "4              0                   0           0       0           1  "
      ]
     },
     "execution_count": 29,
     "metadata": {},
     "output_type": "execute_result"
    }
   ],
   "source": [
    "df = pd.read_csv(r'C:\\Users\\Admin\\Desktop\\Cs\\MLT\\Datasource\\Bank_Personal_Loan_Modelling.csv')\n",
    "df.head()"
   ]
  },
  {
   "cell_type": "code",
   "execution_count": 30,
   "id": "66b417df",
   "metadata": {},
   "outputs": [],
   "source": [
    "df.drop(['ID'],inplace=True,axis=1)"
   ]
  },
  {
   "cell_type": "code",
   "execution_count": 31,
   "id": "991163ce",
   "metadata": {},
   "outputs": [
    {
     "name": "stdout",
     "output_type": "stream",
     "text": [
      "<class 'pandas.core.frame.DataFrame'>\n",
      "RangeIndex: 5000 entries, 0 to 4999\n",
      "Data columns (total 13 columns):\n",
      " #   Column              Non-Null Count  Dtype  \n",
      "---  ------              --------------  -----  \n",
      " 0   Age                 5000 non-null   int64  \n",
      " 1   Experience          5000 non-null   int64  \n",
      " 2   Income              5000 non-null   int64  \n",
      " 3   ZIP Code            5000 non-null   int64  \n",
      " 4   Family              5000 non-null   int64  \n",
      " 5   CCAvg               5000 non-null   float64\n",
      " 6   Education           5000 non-null   int64  \n",
      " 7   Mortgage            5000 non-null   int64  \n",
      " 8   Personal Loan       5000 non-null   int64  \n",
      " 9   Securities Account  5000 non-null   int64  \n",
      " 10  CD Account          5000 non-null   int64  \n",
      " 11  Online              5000 non-null   int64  \n",
      " 12  CreditCard          5000 non-null   int64  \n",
      "dtypes: float64(1), int64(12)\n",
      "memory usage: 507.9 KB\n"
     ]
    }
   ],
   "source": [
    "df.info()"
   ]
  },
  {
   "cell_type": "code",
   "execution_count": 32,
   "id": "b661f002",
   "metadata": {},
   "outputs": [
    {
     "data": {
      "text/plain": [
       "Age                    45\n",
       "Experience             47\n",
       "Income                162\n",
       "ZIP Code              467\n",
       "Family                  4\n",
       "CCAvg                 108\n",
       "Education               3\n",
       "Mortgage              347\n",
       "Personal Loan           2\n",
       "Securities Account      2\n",
       "CD Account              2\n",
       "Online                  2\n",
       "CreditCard              2\n",
       "dtype: int64"
      ]
     },
     "execution_count": 32,
     "metadata": {},
     "output_type": "execute_result"
    }
   ],
   "source": [
    "df.nunique()"
   ]
  },
  {
   "cell_type": "code",
   "execution_count": 33,
   "id": "808cfeeb",
   "metadata": {},
   "outputs": [
    {
     "data": {
      "text/plain": [
       "<AxesSubplot:xlabel='Personal Loan', ylabel='count'>"
      ]
     },
     "execution_count": 33,
     "metadata": {},
     "output_type": "execute_result"
    },
    {
     "data": {
      "image/png": "[encoded data removed]",
      "text/plain": [
       "<Figure size 432x288 with 1 Axes>"
      ]
     },
     "metadata": {
      "needs_background": "light"
     },
     "output_type": "display_data"
    }
   ],
   "source": [
    "sns.countplot(x='Personal Loan',data=df)"
   ]
  },
  {
   "cell_type": "code",
   "execution_count": 34,
   "id": "eaae0a85",
   "metadata": {},
   "outputs": [],
   "source": [
    "df['Age'] = pd.cut(df['Age'],bins=[23,30,45,67],labels=['Young','Adult','Old'])"
   ]
  },
  {
   "cell_type": "code",
   "execution_count": 35,
   "id": "b04411f7",
   "metadata": {},
   "outputs": [
    {
     "data": {
      "text/html": [
       "<div>\n",
       "<style scoped>\n",
       "    .dataframe tbody tr th:only-of-type {\n",
       "        vertical-align: middle;\n",
       "    }\n",
       "\n",
       "    .dataframe tbody tr th {\n",
       "        vertical-align: top;\n",
       "    }\n",
       "\n",
       "    .dataframe thead th {\n",
       "        text-align: right;\n",
       "    }\n",
       "</style>\n",
       "<table border=\"1\" class=\"dataframe\">\n",
       "  <thead>\n",
       "    <tr style=\"text-align: right;\">\n",
       "      <th></th>\n",
       "      <th>Age</th>\n",
       "      <th>Experience</th>\n",
       "      <th>Income</th>\n",
       "      <th>ZIP Code</th>\n",
       "      <th>Family</th>\n",
       "      <th>CCAvg</th>\n",
       "      <th>Education</th>\n",
       "      <th>Mortgage</th>\n",
       "      <th>Personal Loan</th>\n",
       "      <th>Securities Account</th>\n",
       "      <th>CD Account</th>\n",
       "      <th>Online</th>\n",
       "      <th>CreditCard</th>\n",
       "    </tr>\n",
       "  </thead>\n",
       "  <tbody>\n",
       "    <tr>\n",
       "      <th>0</th>\n",
       "      <td>Young</td>\n",
       "      <td>1</td>\n",
       "      <td>49</td>\n",
       "      <td>91107</td>\n",
       "      <td>4</td>\n",
       "      <td>1.6</td>\n",
       "      <td>1</td>\n",
       "      <td>0</td>\n",
       "      <td>0</td>\n",
       "      <td>1</td>\n",
       "      <td>0</td>\n",
       "      <td>0</td>\n",
       "      <td>0</td>\n",
       "    </tr>\n",
       "    <tr>\n",
       "      <th>1</th>\n",
       "      <td>Adult</td>\n",
       "      <td>19</td>\n",
       "      <td>34</td>\n",
       "      <td>90089</td>\n",
       "      <td>3</td>\n",
       "      <td>1.5</td>\n",
       "      <td>1</td>\n",
       "      <td>0</td>\n",
       "      <td>0</td>\n",
       "      <td>1</td>\n",
       "      <td>0</td>\n",
       "      <td>0</td>\n",
       "      <td>0</td>\n",
       "    </tr>\n",
       "    <tr>\n",
       "      <th>2</th>\n",
       "      <td>Adult</td>\n",
       "      <td>15</td>\n",
       "      <td>11</td>\n",
       "      <td>94720</td>\n",
       "      <td>1</td>\n",
       "      <td>1.0</td>\n",
       "      <td>1</td>\n",
       "      <td>0</td>\n",
       "      <td>0</td>\n",
       "      <td>0</td>\n",
       "      <td>0</td>\n",
       "      <td>0</td>\n",
       "      <td>0</td>\n",
       "    </tr>\n",
       "    <tr>\n",
       "      <th>3</th>\n",
       "      <td>Adult</td>\n",
       "      <td>9</td>\n",
       "      <td>100</td>\n",
       "      <td>94112</td>\n",
       "      <td>1</td>\n",
       "      <td>2.7</td>\n",
       "      <td>2</td>\n",
       "      <td>0</td>\n",
       "      <td>0</td>\n",
       "      <td>0</td>\n",
       "      <td>0</td>\n",
       "      <td>0</td>\n",
       "      <td>0</td>\n",
       "    </tr>\n",
       "    <tr>\n",
       "      <th>4</th>\n",
       "      <td>Adult</td>\n",
       "      <td>8</td>\n",
       "      <td>45</td>\n",
       "      <td>91330</td>\n",
       "      <td>4</td>\n",
       "      <td>1.0</td>\n",
       "      <td>2</td>\n",
       "      <td>0</td>\n",
       "      <td>0</td>\n",
       "      <td>0</td>\n",
       "      <td>0</td>\n",
       "      <td>0</td>\n",
       "      <td>1</td>\n",
       "    </tr>\n",
       "  </tbody>\n",
       "</table>\n",
       "</div>"
      ],
      "text/plain": [
       "     Age  Experience  Income  ZIP Code  Family  CCAvg  Education  Mortgage  \\\n",
       "0  Young           1      49     91107       4    1.6          1         0   \n",
       "1  Adult          19      34     90089       3    1.5          1         0   \n",
       "2  Adult          15      11     94720       1    1.0          1         0   \n",
       "3  Adult           9     100     94112       1    2.7          2         0   \n",
       "4  Adult           8      45     91330       4    1.0          2         0   \n",
       "\n",
       "   Personal Loan  Securities Account  CD Account  Online  CreditCard  \n",
       "0              0                   1           0       0           0  \n",
       "1              0                   1           0       0           0  \n",
       "2              0                   0           0       0           0  \n",
       "3              0                   0           0       0           0  \n",
       "4              0                   0           0       0           1  "
      ]
     },
     "execution_count": 35,
     "metadata": {},
     "output_type": "execute_result"
    }
   ],
   "source": [
    "df.head()"
   ]
  },
  {
   "cell_type": "code",
   "execution_count": 36,
   "id": "b2be38be",
   "metadata": {},
   "outputs": [
    {
     "data": {
      "text/plain": [
       "Old      2481\n",
       "Adult    1895\n",
       "Young     612\n",
       "Name: Age, dtype: int64"
      ]
     },
     "execution_count": 36,
     "metadata": {},
     "output_type": "execute_result"
    }
   ],
   "source": [
    "df['Age'].value_counts()"
   ]
  },
  {
   "cell_type": "code",
   "execution_count": 37,
   "id": "a1a2cb47",
   "metadata": {},
   "outputs": [],
   "source": [
    "from sklearn.preprocessing import LabelEncoder\n",
    "le = LabelEncoder()\n",
    "df['Age'] = le.fit_transform(df['Age'])"
   ]
  },
  {
   "cell_type": "code",
   "execution_count": 38,
   "id": "a3154c6f",
   "metadata": {},
   "outputs": [
    {
     "data": {
      "text/plain": [
       "Index(['Age', 'Experience', 'Income', 'ZIP Code', 'Family', 'CCAvg',\n",
       "       'Education', 'Mortgage', 'Personal Loan', 'Securities Account',\n",
       "       'CD Account', 'Online', 'CreditCard'],\n",
       "      dtype='object')"
      ]
     },
     "execution_count": 38,
     "metadata": {},
     "output_type": "execute_result"
    }
   ],
   "source": [
    "df.columns"
   ]
  },
  {
   "cell_type": "code",
   "execution_count": 39,
   "id": "d5f93f28",
   "metadata": {},
   "outputs": [],
   "source": [
    "col = ['Age', 'Experience', 'Income', 'ZIP Code', 'Family', 'CCAvg', 'Education', \n",
    "       'Mortgage', 'Securities Account','CD Account', 'Online', 'CreditCard', 'Personal Loan']\n",
    "df = df[col]"
   ]
  },
  {
   "cell_type": "code",
   "execution_count": 40,
   "id": "749bef1e",
   "metadata": {},
   "outputs": [],
   "source": [
    "x = df.iloc[:,:-1].values\n",
    "y = df.iloc[:,-1].values"
   ]
  },
  {
   "cell_type": "code",
   "execution_count": 41,
   "id": "7c85bf23",
   "metadata": {},
   "outputs": [],
   "source": [
    "from sklearn.model_selection import train_test_split\n",
    "x_train, x_test, y_train, y_test = train_test_split(x,y,test_size=0.25)"
   ]
  },
  {
   "cell_type": "code",
   "execution_count": 42,
   "id": "5c972f91",
   "metadata": {},
   "outputs": [],
   "source": [
    "from keras.models import Sequential\n",
    "from keras.layers import Dense\n",
    "\n",
    "keras = Sequential()\n",
    "keras.add(Dense(12,input_dim=12,activation='relu'))\n",
    "keras.add(Dense(8,activation='relu'))\n",
    "keras.add(Dense(6,activation='relu'))"
   ]
  },
  {
   "cell_type": "code",
   "execution_count": 43,
   "id": "a91fa876",
   "metadata": {},
   "outputs": [],
   "source": [
    "keras.add(Dense(1,activation='sigmoid'))"
   ]
  },
  {
   "cell_type": "code",
   "execution_count": 44,
   "id": "0b436a33",
   "metadata": {},
   "outputs": [],
   "source": [
    "keras.compile(optimizer='adam',loss='binary_crossentropy',metrics=['accuracy'])"
   ]
  },
  {
   "cell_type": "code",
   "execution_count": 45,
   "id": "87965863",
   "metadata": {},
   "outputs": [
    {
     "name": "stdout",
     "output_type": "stream",
     "text": [
      "Epoch 1/20\n",
      "150/150 [==============================] - 3s 3ms/step - loss: 1453.2344 - accuracy: 0.7160\n",
      "Epoch 2/20\n",
      "150/150 [==============================] - 0s 3ms/step - loss: 13.5173 - accuracy: 0.8261\n",
      "Epoch 3/20\n",
      "150/150 [==============================] - 1s 4ms/step - loss: 11.0972 - accuracy: 0.8229\n",
      "Epoch 4/20\n",
      "150/150 [==============================] - 0s 3ms/step - loss: 20.1661 - accuracy: 0.8349\n",
      "Epoch 5/20\n",
      "150/150 [==============================] - 0s 3ms/step - loss: 10.1140 - accuracy: 0.8352\n",
      "Epoch 6/20\n",
      "150/150 [==============================] - 0s 3ms/step - loss: 10.3571 - accuracy: 0.8384\n",
      "Epoch 7/20\n",
      "150/150 [==============================] - 1s 4ms/step - loss: 8.8561 - accuracy: 0.8365\n",
      "Epoch 8/20\n",
      "150/150 [==============================] - 1s 4ms/step - loss: 9.1444 - accuracy: 0.8331\n",
      "Epoch 9/20\n",
      "150/150 [==============================] - 0s 3ms/step - loss: 6.3451 - accuracy: 0.8632\n",
      "Epoch 10/20\n",
      "150/150 [==============================] - 0s 3ms/step - loss: 7.9090 - accuracy: 0.8413\n",
      "Epoch 11/20\n",
      "150/150 [==============================] - 0s 3ms/step - loss: 6.0726 - accuracy: 0.8675\n",
      "Epoch 12/20\n",
      "150/150 [==============================] - 0s 3ms/step - loss: 7.0641 - accuracy: 0.8544\n",
      "Epoch 13/20\n",
      "150/150 [==============================] - 0s 3ms/step - loss: 5.4375 - accuracy: 0.8645\n",
      "Epoch 14/20\n",
      "150/150 [==============================] - 0s 3ms/step - loss: 10.8382 - accuracy: 0.8528\n",
      "Epoch 15/20\n",
      "150/150 [==============================] - 0s 3ms/step - loss: 6.5374 - accuracy: 0.8547\n",
      "Epoch 16/20\n",
      "150/150 [==============================] - 0s 3ms/step - loss: 5.1457 - accuracy: 0.8680\n",
      "Epoch 17/20\n",
      "150/150 [==============================] - 0s 2ms/step - loss: 4.2241 - accuracy: 0.8725\n",
      "Epoch 18/20\n",
      "150/150 [==============================] - 0s 3ms/step - loss: 6.0255 - accuracy: 0.8621\n",
      "Epoch 19/20\n",
      "150/150 [==============================] - 0s 2ms/step - loss: 7.3039 - accuracy: 0.8680\n",
      "Epoch 20/20\n",
      "150/150 [==============================] - 0s 3ms/step - loss: 7.1145 - accuracy: 0.8587\n"
     ]
    },
    {
     "data": {
      "text/plain": [
       "<keras.callbacks.History at 0x21aefa1cdc0>"
      ]
     },
     "execution_count": 45,
     "metadata": {},
     "output_type": "execute_result"
    }
   ],
   "source": [
    "keras.fit(x_train,y_train,epochs=20,batch_size=25)"
   ]
  },
  {
   "cell_type": "code",
   "execution_count": 46,
   "id": "d42ca270",
   "metadata": {},
   "outputs": [
    {
     "name": "stdout",
     "output_type": "stream",
     "text": [
      "118/118 [==============================] - 1s 4ms/step - loss: 3.9434 - accuracy: 0.9043\n",
      "90.42666554450989\n"
     ]
    }
   ],
   "source": [
    "_,acc = keras.evaluate(x_train,y_train)\n",
    "print(acc*100)"
   ]
  },
  {
   "cell_type": "code",
   "execution_count": 47,
   "id": "24b09c07",
   "metadata": {},
   "outputs": [
    {
     "name": "stdout",
     "output_type": "stream",
     "text": [
      "40/40 [==============================] - 0s 2ms/step\n"
     ]
    }
   ],
   "source": [
    "y_pred = keras.predict(x_test)\n",
    "y_pred = (y_pred>0.5)"
   ]
  },
  {
   "cell_type": "code",
   "execution_count": 48,
   "id": "57c2dc33",
   "metadata": {},
   "outputs": [
    {
     "data": {
      "text/plain": [
       "0.9016"
      ]
     },
     "execution_count": 48,
     "metadata": {},
     "output_type": "execute_result"
    }
   ],
   "source": [
    "from sklearn.metrics import accuracy_score\n",
    "accuracy_score(y_test,y_pred)"
   ]
  },
  {
   "cell_type": "code",
   "execution_count": 49,
   "id": "17d13391",
   "metadata": {},
   "outputs": [],
   "source": [
    "from keras import backend as K\n",
    "def r_loss(y_test,y_pred):\n",
    "    res=K.sum(K.square(y_test-y_pred))    \n",
    "    total=K.sum(K.square(y_test-K.mean(y_test)))\n",
    "    return 1-(1-res/(total+K.epsilon()))"
   ]
  },
  {
   "cell_type": "markdown",
   "id": "074e9a9a",
   "metadata": {},
   "source": [
    "## Cultural Algorithm"
   ]
  },
  {
   "cell_type": "code",
   "execution_count": 1,
   "id": "455446a0",
   "metadata": {},
   "outputs": [],
   "source": [
    "import numpy as np\n",
    "\n",
    "class NeuralNetwork:\n",
    "    def __init__(self, input_size, hidden_size, output_size):\n",
    "        self.input_size = input_size\n",
    "        self.hidden_size = hidden_size\n",
    "        self.output_size = output_size\n",
    "        \n",
    "        # Initialize weights and biases\n",
    "        self.weights1 = np.random.randn(self.input_size, self.hidden_size)\n",
    "        self.bias1 = np.random.randn(self.hidden_size)\n",
    "        self.weights2 = np.random.randn(self.hidden_size, self.output_size)\n",
    "        self.bias2 = np.random.randn(self.output_size)\n",
    "        \n",
    "    def forward(self, X):\n",
    "        # Compute the output of the neural network for the given input X\n",
    "        self.z1 = np.dot(X, self.weights1) + self.bias1\n",
    "        self.a1 = np.tanh(self.z1)\n",
    "        self.z2 = np.dot(self.a1, self.weights2) + self.bias2\n",
    "        self.y_hat = np.exp(self.z2) / np.sum(np.exp(self.z2), axis=1, keepdims=True)\n",
    "        \n",
    "        return self.y_hat\n",
    "    \n",
    "class CulturalAlgorithm:\n",
    "    def __init__(self, population_size, num_generations, mutation_rate, input_size, hidden_size, output_size):\n",
    "        self.population_size = population_size\n",
    "        self.num_generations = num_generations\n",
    "        self.mutation_rate = mutation_rate\n",
    "        self.input_size = input_size\n",
    "        self.hidden_size = hidden_size\n",
    "        self.output_size = output_size\n",
    "        \n",
    "        # Initialize the population\n",
    "        self.population = [NeuralNetwork(self.input_size, self.hidden_size, self.output_size) for i in range(self.population_size)]\n",
    "        \n",
    "    def select_parents(self):\n",
    "        # Select two parents using tournament selection\n",
    "        parent1, parent2 = None, None\n",
    "        for i in range(2):\n",
    "            tournament = np.random.choice(self.population, size=4)\n",
    "            winner = tournament[0]\n",
    "            for j in range(1, 4):\n",
    "                if tournament[j].fitness > winner.fitness:\n",
    "                    winner = tournament[j]\n",
    "            if i == 0:\n",
    "                parent1 = winner\n",
    "            else:\n",
    "                parent2 = winner\n",
    "        return parent1, parent2\n",
    "    \n",
    "    def crossover(self, parent1, parent2):\n",
    "        # Perform uniform crossover\n",
    "        child = NeuralNetwork(self.input_size, self.hidden_size, self.output_size)\n",
    "        for i in range(self.input_size):\n",
    "            for j in range(self.hidden_size):\n",
    "                if np.random.rand() < 0.5:\n",
    "                    child.weights1[i][j] = parent1.weights1[i][j]\n",
    "                else:\n",
    "                    child.weights1[i][j] = parent2.weights1[i][j]\n",
    "        for i in range(self.hidden_size):\n",
    "            for j in range(self.output_size):\n",
    "                if np.random.rand() < 0.5:\n",
    "                    child.weights2[i][j] = parent1.weights2[i][j]\n",
    "                else:\n",
    "                    child.weights2[i][j] = parent2.weights2[i][j]\n",
    "        return child\n",
    "    \n",
    "    def mutate(self, child):\n",
    "        # Mutate the child with a given mutation rate\n",
    "        for i in range(self.input_size):\n",
    "            for j in range(self.hidden_size):\n",
    "                if np.random.rand() < self.mutation_rate:\n",
    "                    child.weights1[i][j] += np.random.normal(scale=0.1)\n",
    "        for i in range(self.hidden_size):\n",
    "            for j in range(self.output_size):\n",
    "                if np.random.rand() < self.mutation_rate:\n",
    "                    child.weights2[i][j] += np.random.normal(scale=0.1)\n",
    "        return child"
   ]
  }
 ],
 "metadata": {
  "kernelspec": {
   "display_name": "Python 3 (ipykernel)",
   "language": "python",
   "name": "python3"
  },
  "language_info": {
   "codemirror_mode": {
    "name": "ipython",
    "version": 3
   },
   "file_extension": ".py",
   "mimetype": "text/x-python",
   "name": "python",
   "nbconvert_exporter": "python",
   "pygments_lexer": "ipython3",
   "version": "3.9.12"
  }
 },
 "nbformat": 4,
 "nbformat_minor": 5
}
