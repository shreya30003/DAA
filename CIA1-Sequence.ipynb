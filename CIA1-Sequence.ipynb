{
 "cells": [
  {
   "cell_type": "code",
   "execution_count": 46,
   "id": "b6942e38",
   "metadata": {},
   "outputs": [],
   "source": [
    "import numpy as np\n",
    "\n",
    "seq1='ACACACTA'\n",
    "seq2='AGCACACA'\n",
    "\n",
    "match_score=2\n",
    "mismatch_score=-1\n",
    "gap_penalty = -2"
   ]
  },
  {
   "cell_type": "code",
   "execution_count": 47,
   "id": "df097d3e",
   "metadata": {},
   "outputs": [],
   "source": [
    "def align(seq1, seq2, gap_penalty, match_score, mismatch_score):\n",
    "    n = len(seq1)\n",
    "    m = len(seq2)\n",
    "    score = [[0 for j in range(m+1)] for i in range(n+1)]\n",
    "    for i in range(n+1):\n",
    "        score[i][0] = i * gap_penalty\n",
    "    for j in range(m+1):\n",
    "        score[0][j] = j * gap_penalty\n",
    "        \n",
    "    for i in range(1, n+1): #score matrix\n",
    "        for j in range(1, m+1):\n",
    "            if seq1[i-1] == seq2[j-1]:\n",
    "                diag_score = score[i-1][j-1] + match_score\n",
    "            else:\n",
    "                diag_score = score[i-1][j-1] + mismatch_score\n",
    "            up_score = score[i-1][j] + gap_penalty\n",
    "            left_score = score[i][j-1] + gap_penalty\n",
    "            score[i][j] = max(diag_score, up_score, left_score)\n",
    "            \n",
    "    align1 = ''\n",
    "    align2 = ''\n",
    "    i = n\n",
    "    j = m\n",
    "    while i > 0 and j > 0:\n",
    "        if seq1[i-1] == seq2[j-1]:\n",
    "            align1 = seq1[i-1] + align1\n",
    "            align2 = seq2[j-1] + align2\n",
    "            i -= 1\n",
    "            j -= 1\n",
    "        elif score[i-1][j] + gap_penalty == score[i][j]:\n",
    "            align1 = seq1[i-1] + align1\n",
    "            align2 = '-' + align2\n",
    "            i -= 1\n",
    "        elif score[i][j-1] + gap_penalty == score[i][j]:\n",
    "            align1 = '-' + align1\n",
    "            align2 = seq2[j-1] + align2\n",
    "            j -= 1\n",
    "            \n",
    "    while i > 0:\n",
    "        align1 = seq1[i-1] + align1\n",
    "        align2 = '-' + align2\n",
    "        i -= 1\n",
    "    while j > 0:\n",
    "        align1 = '-' + align1\n",
    "        align2 = seq2[j-1] + align2\n",
    "        j -= 1\n",
    "        \n",
    "    return align1, align2"
   ]
  },
  {
   "cell_type": "code",
   "execution_count": 48,
   "id": "210fe24b",
   "metadata": {},
   "outputs": [
    {
     "name": "stdout",
     "output_type": "stream",
     "text": [
      "A-CACACTA\n",
      "AGCACAC-A\n"
     ]
    }
   ],
   "source": [
    "align1, align2 = align(seq1, seq2, gap_penalty, match_score, mismatch_score)\n",
    "print(align1)\n",
    "print(align2)"
   ]
  },
  {
   "cell_type": "code",
   "execution_count": 51,
   "id": "9c3f9a9f",
   "metadata": {},
   "outputs": [],
   "source": [
    "my_matrix = []\n",
    "\n",
    "def print_matrix(mat):\n",
    "    for i in range(0, len(mat)):\n",
    "        print(\"[\", end = \"\")\n",
    "        for j in range(0, len(mat[i])):\n",
    "            print(mat[i][j], end = \"\")\n",
    "            if j != len(mat[i]) - 1:\n",
    "                print(\"\\t\", end = \"\")\n",
    "        print(\"]\\n\")"
   ]
  },
  {
   "cell_type": "code",
   "execution_count": 52,
   "id": "8ffc80cc",
   "metadata": {},
   "outputs": [
    {
     "name": "stdout",
     "output_type": "stream",
     "text": [
      "[0\t0\t0\t0\t0\t0\t0\t0\t0]\n",
      "\n",
      "[0\t2\t2\t2\t2\t2\t2\t2\t2]\n",
      "\n",
      "[0\t2\t2\t2\t2\t2\t2\t2\t2]\n",
      "\n",
      "[0\t2\t4\t4\t4\t4\t4\t4\t4]\n",
      "\n",
      "[0\t2\t4\t6\t6\t6\t6\t6\t6]\n",
      "\n",
      "[0\t2\t4\t6\t8\t8\t8\t8\t8]\n",
      "\n",
      "[0\t2\t4\t6\t8\t10\t10\t10\t10]\n",
      "\n",
      "[0\t2\t4\t6\t8\t10\t12\t12\t12]\n",
      "\n",
      "[0\t2\t4\t6\t8\t10\t12\t12\t14]\n",
      "\n"
     ]
    }
   ],
   "source": [
    "gap_penalty = 0\n",
    "match_award = 2\n",
    "mismatch_penalty = -1\n",
    "\n",
    "def zeros(rows, cols):\n",
    "    retval = []\n",
    "    for x in range(rows):\n",
    "        retval.append([])\n",
    "        for y in range(cols):\n",
    "            retval[-1].append(0)\n",
    "    return retval\n",
    "\n",
    "def match_score(alpha, beta):\n",
    "    if alpha == beta:\n",
    "        return match_award\n",
    "    elif alpha == '-' or beta == '-':\n",
    "        return gap_penalty\n",
    "    else:\n",
    "        return mismatch_penalty\n",
    "\n",
    "def needleman_wunsch(seq1, seq2):\n",
    "    n = len(seq1)\n",
    "    m = len(seq2)  \n",
    "    score = zeros(m+1, n+1)\n",
    "   \n",
    "    for i in range(0, m + 1):\n",
    "        score[i][0] = gap_penalty * i\n",
    "    for j in range(0, n + 1):\n",
    "        score[0][j] = gap_penalty * j\n",
    "    \n",
    "    for i in range(1, m + 1):\n",
    "        for j in range(1, n + 1):\n",
    "            match = score[i - 1][j - 1] + match_score(seq1[j-1], seq2[i-1])\n",
    "            delete = score[i - 1][j] + gap_penalty\n",
    "            insert = score[i][j - 1] + gap_penalty\n",
    "            score[i][j] = max(match, delete, insert)\n",
    "    return score\n",
    "\n",
    "print_matrix(needleman_wunsch(seq1, seq2))"
   ]
  }
 ],
 "metadata": {
  "kernelspec": {
   "display_name": "Python 3 (ipykernel)",
   "language": "python",
   "name": "python3"
  },
  "language_info": {
   "codemirror_mode": {
    "name": "ipython",
    "version": 3
   },
   "file_extension": ".py",
   "mimetype": "text/x-python",
   "name": "python",
   "nbconvert_exporter": "python",
   "pygments_lexer": "ipython3",
   "version": "3.9.12"
  }
 },
 "nbformat": 4,
 "nbformat_minor": 5
}
