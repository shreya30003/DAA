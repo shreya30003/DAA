{
 "cells": [
  {
   "cell_type": "code",
   "execution_count": 1,
   "id": "d4bf1d3d",
   "metadata": {},
   "outputs": [],
   "source": [
    "import pandas as pd\n",
    "import numpy as np\n",
    "import matplotlib.pyplot as plt\n",
    "import seaborn as sns"
   ]
  },
  {
   "cell_type": "code",
   "execution_count": 2,
   "id": "d5e5d610",
   "metadata": {
    "scrolled": true
   },
   "outputs": [
    {
     "data": {
      "text/html": [
       "<div>\n",
       "<style scoped>\n",
       "    .dataframe tbody tr th:only-of-type {\n",
       "        vertical-align: middle;\n",
       "    }\n",
       "\n",
       "    .dataframe tbody tr th {\n",
       "        vertical-align: top;\n",
       "    }\n",
       "\n",
       "    .dataframe thead th {\n",
       "        text-align: right;\n",
       "    }\n",
       "</style>\n",
       "<table border=\"1\" class=\"dataframe\">\n",
       "  <thead>\n",
       "    <tr style=\"text-align: right;\">\n",
       "      <th></th>\n",
       "      <th>ID</th>\n",
       "      <th>Age</th>\n",
       "      <th>Experience</th>\n",
       "      <th>Income</th>\n",
       "      <th>ZIP Code</th>\n",
       "      <th>Family</th>\n",
       "      <th>CCAvg</th>\n",
       "      <th>Education</th>\n",
       "      <th>Mortgage</th>\n",
       "      <th>Personal Loan</th>\n",
       "      <th>Securities Account</th>\n",
       "      <th>CD Account</th>\n",
       "      <th>Online</th>\n",
       "      <th>CreditCard</th>\n",
       "    </tr>\n",
       "  </thead>\n",
       "  <tbody>\n",
       "    <tr>\n",
       "      <th>0</th>\n",
       "      <td>1</td>\n",
       "      <td>25</td>\n",
       "      <td>1</td>\n",
       "      <td>49</td>\n",
       "      <td>91107</td>\n",
       "      <td>4</td>\n",
       "      <td>1.6</td>\n",
       "      <td>1</td>\n",
       "      <td>0</td>\n",
       "      <td>0</td>\n",
       "      <td>1</td>\n",
       "      <td>0</td>\n",
       "      <td>0</td>\n",
       "      <td>0</td>\n",
       "    </tr>\n",
       "    <tr>\n",
       "      <th>1</th>\n",
       "      <td>2</td>\n",
       "      <td>45</td>\n",
       "      <td>19</td>\n",
       "      <td>34</td>\n",
       "      <td>90089</td>\n",
       "      <td>3</td>\n",
       "      <td>1.5</td>\n",
       "      <td>1</td>\n",
       "      <td>0</td>\n",
       "      <td>0</td>\n",
       "      <td>1</td>\n",
       "      <td>0</td>\n",
       "      <td>0</td>\n",
       "      <td>0</td>\n",
       "    </tr>\n",
       "    <tr>\n",
       "      <th>2</th>\n",
       "      <td>3</td>\n",
       "      <td>39</td>\n",
       "      <td>15</td>\n",
       "      <td>11</td>\n",
       "      <td>94720</td>\n",
       "      <td>1</td>\n",
       "      <td>1.0</td>\n",
       "      <td>1</td>\n",
       "      <td>0</td>\n",
       "      <td>0</td>\n",
       "      <td>0</td>\n",
       "      <td>0</td>\n",
       "      <td>0</td>\n",
       "      <td>0</td>\n",
       "    </tr>\n",
       "    <tr>\n",
       "      <th>3</th>\n",
       "      <td>4</td>\n",
       "      <td>35</td>\n",
       "      <td>9</td>\n",
       "      <td>100</td>\n",
       "      <td>94112</td>\n",
       "      <td>1</td>\n",
       "      <td>2.7</td>\n",
       "      <td>2</td>\n",
       "      <td>0</td>\n",
       "      <td>0</td>\n",
       "      <td>0</td>\n",
       "      <td>0</td>\n",
       "      <td>0</td>\n",
       "      <td>0</td>\n",
       "    </tr>\n",
       "    <tr>\n",
       "      <th>4</th>\n",
       "      <td>5</td>\n",
       "      <td>35</td>\n",
       "      <td>8</td>\n",
       "      <td>45</td>\n",
       "      <td>91330</td>\n",
       "      <td>4</td>\n",
       "      <td>1.0</td>\n",
       "      <td>2</td>\n",
       "      <td>0</td>\n",
       "      <td>0</td>\n",
       "      <td>0</td>\n",
       "      <td>0</td>\n",
       "      <td>0</td>\n",
       "      <td>1</td>\n",
       "    </tr>\n",
       "  </tbody>\n",
       "</table>\n",
       "</div>"
      ],
      "text/plain": [
       "   ID  Age  Experience  Income  ZIP Code  Family  CCAvg  Education  Mortgage  \\\n",
       "0   1   25           1      49     91107       4    1.6          1         0   \n",
       "1   2   45          19      34     90089       3    1.5          1         0   \n",
       "2   3   39          15      11     94720       1    1.0          1         0   \n",
       "3   4   35           9     100     94112       1    2.7          2         0   \n",
       "4   5   35           8      45     91330       4    1.0          2         0   \n",
       "\n",
       "   Personal Loan  Securities Account  CD Account  Online  CreditCard  \n",
       "0              0                   1           0       0           0  \n",
       "1              0                   1           0       0           0  \n",
       "2              0                   0           0       0           0  \n",
       "3              0                   0           0       0           0  \n",
       "4              0                   0           0       0           1  "
      ]
     },
     "execution_count": 2,
     "metadata": {},
     "output_type": "execute_result"
    }
   ],
   "source": [
    "df = pd.read_csv(r'C:\\Users\\Admin\\Desktop\\Cs\\MLT\\Datasource\\Bank_Personal_Loan_Modelling.csv')\n",
    "df.head()"
   ]
  },
  {
   "cell_type": "code",
   "execution_count": 3,
   "id": "66b417df",
   "metadata": {},
   "outputs": [],
   "source": [
    "df.drop(['ID'],inplace=True,axis=1)"
   ]
  },
  {
   "cell_type": "code",
   "execution_count": 4,
   "id": "991163ce",
   "metadata": {},
   "outputs": [
    {
     "name": "stdout",
     "output_type": "stream",
     "text": [
      "<class 'pandas.core.frame.DataFrame'>\n",
      "RangeIndex: 5000 entries, 0 to 4999\n",
      "Data columns (total 13 columns):\n",
      " #   Column              Non-Null Count  Dtype  \n",
      "---  ------              --------------  -----  \n",
      " 0   Age                 5000 non-null   int64  \n",
      " 1   Experience          5000 non-null   int64  \n",
      " 2   Income              5000 non-null   int64  \n",
      " 3   ZIP Code            5000 non-null   int64  \n",
      " 4   Family              5000 non-null   int64  \n",
      " 5   CCAvg               5000 non-null   float64\n",
      " 6   Education           5000 non-null   int64  \n",
      " 7   Mortgage            5000 non-null   int64  \n",
      " 8   Personal Loan       5000 non-null   int64  \n",
      " 9   Securities Account  5000 non-null   int64  \n",
      " 10  CD Account          5000 non-null   int64  \n",
      " 11  Online              5000 non-null   int64  \n",
      " 12  CreditCard          5000 non-null   int64  \n",
      "dtypes: float64(1), int64(12)\n",
      "memory usage: 507.9 KB\n"
     ]
    }
   ],
   "source": [
    "df.info()"
   ]
  },
  {
   "cell_type": "code",
   "execution_count": 5,
   "id": "b661f002",
   "metadata": {},
   "outputs": [
    {
     "data": {
      "text/plain": [
       "Age                    45\n",
       "Experience             47\n",
       "Income                162\n",
       "ZIP Code              467\n",
       "Family                  4\n",
       "CCAvg                 108\n",
       "Education               3\n",
       "Mortgage              347\n",
       "Personal Loan           2\n",
       "Securities Account      2\n",
       "CD Account              2\n",
       "Online                  2\n",
       "CreditCard              2\n",
       "dtype: int64"
      ]
     },
     "execution_count": 5,
     "metadata": {},
     "output_type": "execute_result"
    }
   ],
   "source": [
    "df.nunique()"
   ]
  },
  {
   "cell_type": "code",
   "execution_count": 6,
   "id": "808cfeeb",
   "metadata": {},
   "outputs": [
    {
     "data": {
      "text/plain": [
       "<AxesSubplot:xlabel='Personal Loan', ylabel='count'>"
      ]
     },
     "execution_count": 6,
     "metadata": {},
     "output_type": "execute_result"
    },
    {
     "data": {
      "image/png": "[encoded data removed]",
      "text/plain": [
       "<Figure size 432x288 with 1 Axes>"
      ]
     },
     "metadata": {
      "needs_background": "light"
     },
     "output_type": "display_data"
    }
   ],
   "source": [
    "sns.countplot(x='Personal Loan',data=df)"
   ]
  },
  {
   "cell_type": "code",
   "execution_count": 7,
   "id": "eaae0a85",
   "metadata": {},
   "outputs": [],
   "source": [
    "df['Age'] = pd.cut(df['Age'],bins=[23,30,45,67],labels=['Young','Adult','Old'])"
   ]
  },
  {
   "cell_type": "code",
   "execution_count": 8,
   "id": "b04411f7",
   "metadata": {},
   "outputs": [
    {
     "data": {
      "text/html": [
       "<div>\n",
       "<style scoped>\n",
       "    .dataframe tbody tr th:only-of-type {\n",
       "        vertical-align: middle;\n",
       "    }\n",
       "\n",
       "    .dataframe tbody tr th {\n",
       "        vertical-align: top;\n",
       "    }\n",
       "\n",
       "    .dataframe thead th {\n",
       "        text-align: right;\n",
       "    }\n",
       "</style>\n",
       "<table border=\"1\" class=\"dataframe\">\n",
       "  <thead>\n",
       "    <tr style=\"text-align: right;\">\n",
       "      <th></th>\n",
       "      <th>Age</th>\n",
       "      <th>Experience</th>\n",
       "      <th>Income</th>\n",
       "      <th>ZIP Code</th>\n",
       "      <th>Family</th>\n",
       "      <th>CCAvg</th>\n",
       "      <th>Education</th>\n",
       "      <th>Mortgage</th>\n",
       "      <th>Personal Loan</th>\n",
       "      <th>Securities Account</th>\n",
       "      <th>CD Account</th>\n",
       "      <th>Online</th>\n",
       "      <th>CreditCard</th>\n",
       "    </tr>\n",
       "  </thead>\n",
       "  <tbody>\n",
       "    <tr>\n",
       "      <th>0</th>\n",
       "      <td>Young</td>\n",
       "      <td>1</td>\n",
       "      <td>49</td>\n",
       "      <td>91107</td>\n",
       "      <td>4</td>\n",
       "      <td>1.6</td>\n",
       "      <td>1</td>\n",
       "      <td>0</td>\n",
       "      <td>0</td>\n",
       "      <td>1</td>\n",
       "      <td>0</td>\n",
       "      <td>0</td>\n",
       "      <td>0</td>\n",
       "    </tr>\n",
       "    <tr>\n",
       "      <th>1</th>\n",
       "      <td>Adult</td>\n",
       "      <td>19</td>\n",
       "      <td>34</td>\n",
       "      <td>90089</td>\n",
       "      <td>3</td>\n",
       "      <td>1.5</td>\n",
       "      <td>1</td>\n",
       "      <td>0</td>\n",
       "      <td>0</td>\n",
       "      <td>1</td>\n",
       "      <td>0</td>\n",
       "      <td>0</td>\n",
       "      <td>0</td>\n",
       "    </tr>\n",
       "    <tr>\n",
       "      <th>2</th>\n",
       "      <td>Adult</td>\n",
       "      <td>15</td>\n",
       "      <td>11</td>\n",
       "      <td>94720</td>\n",
       "      <td>1</td>\n",
       "      <td>1.0</td>\n",
       "      <td>1</td>\n",
       "      <td>0</td>\n",
       "      <td>0</td>\n",
       "      <td>0</td>\n",
       "      <td>0</td>\n",
       "      <td>0</td>\n",
       "      <td>0</td>\n",
       "    </tr>\n",
       "    <tr>\n",
       "      <th>3</th>\n",
       "      <td>Adult</td>\n",
       "      <td>9</td>\n",
       "      <td>100</td>\n",
       "      <td>94112</td>\n",
       "      <td>1</td>\n",
       "      <td>2.7</td>\n",
       "      <td>2</td>\n",
       "      <td>0</td>\n",
       "      <td>0</td>\n",
       "      <td>0</td>\n",
       "      <td>0</td>\n",
       "      <td>0</td>\n",
       "      <td>0</td>\n",
       "    </tr>\n",
       "    <tr>\n",
       "      <th>4</th>\n",
       "      <td>Adult</td>\n",
       "      <td>8</td>\n",
       "      <td>45</td>\n",
       "      <td>91330</td>\n",
       "      <td>4</td>\n",
       "      <td>1.0</td>\n",
       "      <td>2</td>\n",
       "      <td>0</td>\n",
       "      <td>0</td>\n",
       "      <td>0</td>\n",
       "      <td>0</td>\n",
       "      <td>0</td>\n",
       "      <td>1</td>\n",
       "    </tr>\n",
       "  </tbody>\n",
       "</table>\n",
       "</div>"
      ],
      "text/plain": [
       "     Age  Experience  Income  ZIP Code  Family  CCAvg  Education  Mortgage  \\\n",
       "0  Young           1      49     91107       4    1.6          1         0   \n",
       "1  Adult          19      34     90089       3    1.5          1         0   \n",
       "2  Adult          15      11     94720       1    1.0          1         0   \n",
       "3  Adult           9     100     94112       1    2.7          2         0   \n",
       "4  Adult           8      45     91330       4    1.0          2         0   \n",
       "\n",
       "   Personal Loan  Securities Account  CD Account  Online  CreditCard  \n",
       "0              0                   1           0       0           0  \n",
       "1              0                   1           0       0           0  \n",
       "2              0                   0           0       0           0  \n",
       "3              0                   0           0       0           0  \n",
       "4              0                   0           0       0           1  "
      ]
     },
     "execution_count": 8,
     "metadata": {},
     "output_type": "execute_result"
    }
   ],
   "source": [
    "df.head()"
   ]
  },
  {
   "cell_type": "code",
   "execution_count": 9,
   "id": "b2be38be",
   "metadata": {},
   "outputs": [
    {
     "data": {
      "text/plain": [
       "Old      2481\n",
       "Adult    1895\n",
       "Young     612\n",
       "Name: Age, dtype: int64"
      ]
     },
     "execution_count": 9,
     "metadata": {},
     "output_type": "execute_result"
    }
   ],
   "source": [
    "df['Age'].value_counts()"
   ]
  },
  {
   "cell_type": "code",
   "execution_count": 10,
   "id": "a1a2cb47",
   "metadata": {},
   "outputs": [],
   "source": [
    "from sklearn.preprocessing import LabelEncoder\n",
    "le = LabelEncoder()\n",
    "df['Age'] = le.fit_transform(df['Age'])"
   ]
  },
  {
   "cell_type": "code",
   "execution_count": 11,
   "id": "a3154c6f",
   "metadata": {},
   "outputs": [
    {
     "data": {
      "text/plain": [
       "Index(['Age', 'Experience', 'Income', 'ZIP Code', 'Family', 'CCAvg',\n",
       "       'Education', 'Mortgage', 'Personal Loan', 'Securities Account',\n",
       "       'CD Account', 'Online', 'CreditCard'],\n",
       "      dtype='object')"
      ]
     },
     "execution_count": 11,
     "metadata": {},
     "output_type": "execute_result"
    }
   ],
   "source": [
    "df.columns"
   ]
  },
  {
   "cell_type": "code",
   "execution_count": 12,
   "id": "d5f93f28",
   "metadata": {},
   "outputs": [],
   "source": [
    "col = ['Age', 'Experience', 'Income', 'ZIP Code', 'Family', 'CCAvg', 'Education', \n",
    "       'Mortgage', 'Securities Account','CD Account', 'Online', 'CreditCard', 'Personal Loan']\n",
    "df = df[col]"
   ]
  },
  {
   "cell_type": "code",
   "execution_count": 13,
   "id": "749bef1e",
   "metadata": {},
   "outputs": [],
   "source": [
    "x = df.iloc[:,:-1].values\n",
    "y = df.iloc[:,-1].values"
   ]
  },
  {
   "cell_type": "code",
   "execution_count": 14,
   "id": "7c85bf23",
   "metadata": {},
   "outputs": [],
   "source": [
    "from sklearn.model_selection import train_test_split\n",
    "x_train, x_test, y_train, y_test = train_test_split(x,y,test_size=0.25)"
   ]
  },
  {
   "cell_type": "code",
   "execution_count": 15,
   "id": "5c972f91",
   "metadata": {},
   "outputs": [],
   "source": [
    "from keras.models import Sequential\n",
    "from keras.layers import Dense\n",
    "\n",
    "keras = Sequential()\n",
    "keras.add(Dense(12,input_dim=12,activation='relu'))\n",
    "keras.add(Dense(8,activation='relu'))\n",
    "keras.add(Dense(6,activation='relu'))"
   ]
  },
  {
   "cell_type": "code",
   "execution_count": 16,
   "id": "a91fa876",
   "metadata": {},
   "outputs": [],
   "source": [
    "keras.add(Dense(1,activation='sigmoid'))"
   ]
  },
  {
   "cell_type": "code",
   "execution_count": 17,
   "id": "0b436a33",
   "metadata": {},
   "outputs": [],
   "source": [
    "keras.compile(optimizer='adam',loss='binary_crossentropy',metrics=['accuracy'])"
   ]
  },
  {
   "cell_type": "code",
   "execution_count": 18,
   "id": "87965863",
   "metadata": {},
   "outputs": [
    {
     "name": "stdout",
     "output_type": "stream",
     "text": [
      "Epoch 1/20\n",
      "150/150 [==============================] - 2s 2ms/step - loss: 68.6821 - accuracy: 0.8293\n",
      "Epoch 2/20\n",
      "150/150 [==============================] - 0s 2ms/step - loss: 20.6839 - accuracy: 0.8245\n",
      "Epoch 3/20\n",
      "150/150 [==============================] - 0s 2ms/step - loss: 19.3988 - accuracy: 0.8312\n",
      "Epoch 4/20\n",
      "150/150 [==============================] - 0s 1ms/step - loss: 18.7926 - accuracy: 0.8397\n",
      "Epoch 5/20\n",
      "150/150 [==============================] - 0s 2ms/step - loss: 16.7807 - accuracy: 0.8525\n",
      "Epoch 6/20\n",
      "150/150 [==============================] - 0s 2ms/step - loss: 28.9196 - accuracy: 0.8331\n",
      "Epoch 7/20\n",
      "150/150 [==============================] - 0s 2ms/step - loss: 15.5476 - accuracy: 0.8456\n",
      "Epoch 8/20\n",
      "150/150 [==============================] - 0s 2ms/step - loss: 11.0467 - accuracy: 0.8571\n",
      "Epoch 9/20\n",
      "150/150 [==============================] - 0s 2ms/step - loss: 6.1269 - accuracy: 0.8763\n",
      "Epoch 10/20\n",
      "150/150 [==============================] - 0s 2ms/step - loss: 11.3554 - accuracy: 0.8496\n",
      "Epoch 11/20\n",
      "150/150 [==============================] - 0s 2ms/step - loss: 17.8820 - accuracy: 0.8461\n",
      "Epoch 12/20\n",
      "150/150 [==============================] - 0s 3ms/step - loss: 11.4234 - accuracy: 0.8544\n",
      "Epoch 13/20\n",
      "150/150 [==============================] - 0s 2ms/step - loss: 14.5314 - accuracy: 0.8480\n",
      "Epoch 14/20\n",
      "150/150 [==============================] - 0s 2ms/step - loss: 7.5270 - accuracy: 0.8800\n",
      "Epoch 15/20\n",
      "150/150 [==============================] - 0s 2ms/step - loss: 9.3240 - accuracy: 0.8693\n",
      "Epoch 16/20\n",
      "150/150 [==============================] - 0s 2ms/step - loss: 15.3095 - accuracy: 0.8672\n",
      "Epoch 17/20\n",
      "150/150 [==============================] - 0s 2ms/step - loss: 7.8919 - accuracy: 0.8645\n",
      "Epoch 18/20\n",
      "150/150 [==============================] - 0s 1ms/step - loss: 10.5403 - accuracy: 0.8645\n",
      "Epoch 19/20\n",
      "150/150 [==============================] - 0s 1ms/step - loss: 9.9590 - accuracy: 0.8725\n",
      "Epoch 20/20\n",
      "150/150 [==============================] - 0s 2ms/step - loss: 14.6946 - accuracy: 0.8581\n"
     ]
    },
    {
     "data": {
      "text/plain": [
       "<keras.callbacks.History at 0x13d77664a30>"
      ]
     },
     "execution_count": 18,
     "metadata": {},
     "output_type": "execute_result"
    }
   ],
   "source": [
    "keras.fit(x_train,y_train,epochs=20,batch_size=25)"
   ]
  },
  {
   "cell_type": "code",
   "execution_count": 19,
   "id": "d42ca270",
   "metadata": {},
   "outputs": [
    {
     "name": "stdout",
     "output_type": "stream",
     "text": [
      "118/118 [==============================] - 0s 1ms/step - loss: 89.6164 - accuracy: 0.0963\n",
      "9.626666456460953\n"
     ]
    }
   ],
   "source": [
    "_,acc = keras.evaluate(x_train,y_train)\n",
    "print(acc*100)"
   ]
  },
  {
   "cell_type": "code",
   "execution_count": 20,
   "id": "24b09c07",
   "metadata": {},
   "outputs": [
    {
     "name": "stdout",
     "output_type": "stream",
     "text": [
      "40/40 [==============================] - 0s 1ms/step\n"
     ]
    }
   ],
   "source": [
    "y_pred = keras.predict(x_test)\n",
    "y_pred = (y_pred>0.5)"
   ]
  },
  {
   "cell_type": "code",
   "execution_count": 21,
   "id": "57c2dc33",
   "metadata": {},
   "outputs": [
    {
     "data": {
      "text/plain": [
       "0.0952"
      ]
     },
     "execution_count": 21,
     "metadata": {},
     "output_type": "execute_result"
    }
   ],
   "source": [
    "from sklearn.metrics import accuracy_score\n",
    "accuracy_score(y_test,y_pred)"
   ]
  },
  {
   "cell_type": "code",
   "execution_count": 22,
   "id": "17d13391",
   "metadata": {},
   "outputs": [],
   "source": [
    "from keras import backend as K\n",
    "def r_loss(y_test,y_pred):\n",
    "    res=K.sum(K.square(y_test-y_pred))    \n",
    "    total=K.sum(K.square(y_test-K.mean(y_test)))\n",
    "    return 1-(1-res/(total+K.epsilon()))"
   ]
  },
  {
   "cell_type": "markdown",
   "id": "5973b6dc",
   "metadata": {},
   "source": [
    "## Particle Swarm Optimisation"
   ]
  },
  {
   "cell_type": "code",
   "execution_count": 27,
   "id": "d539815c",
   "metadata": {},
   "outputs": [],
   "source": [
    "X = df.iloc[:,:-1].values\n",
    "y = df.iloc[:,-1].values"
   ]
  },
  {
   "cell_type": "code",
   "execution_count": 47,
   "id": "772ce4ad",
   "metadata": {},
   "outputs": [
    {
     "data": {
      "text/plain": [
       "(5000, 12)"
      ]
     },
     "execution_count": 47,
     "metadata": {},
     "output_type": "execute_result"
    }
   ],
   "source": [
    "X.shape"
   ]
  },
  {
   "cell_type": "code",
   "execution_count": 48,
   "id": "ac3b9b03",
   "metadata": {},
   "outputs": [
    {
     "data": {
      "text/plain": [
       "(5000, 13)"
      ]
     },
     "execution_count": 48,
     "metadata": {},
     "output_type": "execute_result"
    }
   ],
   "source": [
    "df.shape"
   ]
  },
  {
   "cell_type": "code",
   "execution_count": 49,
   "id": "130611f4",
   "metadata": {},
   "outputs": [],
   "source": [
    "def sigmoid(x):\n",
    "    return 1/(1+np.exp(-x))"
   ]
  },
  {
   "cell_type": "code",
   "execution_count": 50,
   "id": "19a7f220",
   "metadata": {},
   "outputs": [],
   "source": [
    "def cost_function(X, y, W):\n",
    "    y_hat = sigmoid(np.dot(X, W))\n",
    "    cost = -np.mean(y*np.log(y_hat) + (1-y)*np.log(1-y_hat))\n",
    "    return cost"
   ]
  },
  {
   "cell_type": "code",
   "execution_count": 51,
   "id": "dff59e47",
   "metadata": {},
   "outputs": [],
   "source": [
    "def pso(X, y, n_particles, n_iterations):\n",
    "    n_features = 12\n",
    "    lb = -1\n",
    "    ub = 1\n",
    "    swarm_size = (n_particles, n_features)\n",
    "    V = np.random.uniform(low=-1, high=1, size=swarm_size)\n",
    "    X = np.random.uniform(low=lb, high=ub, size=swarm_size)\n",
    "    P_best = X.copy()\n",
    "    P_best_fitness = np.zeros(n_particles)\n",
    "    for i in range(n_particles):\n",
    "        P_best_fitness[i] = cost_function(X[i], y, X[i])\n",
    "    G_best = X[np.argmin(P_best_fitness)].copy()\n",
    "    G_best_fitness = np.min(P_best_fitness)\n",
    "    for iteration in range(n_iterations):\n",
    "        w = 0.5\n",
    "        c1 = 0.8\n",
    "        c2 = 0.9\n",
    "        r1 = np.random.uniform(size=swarm_size)\n",
    "        r2 = np.random.uniform(size=swarm_size)\n",
    "        V = w*V + c1*r1*(P_best - X) + c2*r2*(G_best - X)\n",
    "        X = X + V\n",
    "        X[X < lb] = lb\n",
    "        X[X > ub] = ub\n",
    "        for i in range(n_particles):\n",
    "            fitness = cost_function(X[i], y, X[i])\n",
    "            if fitness < P_best_fitness[i]:\n",
    "                P_best[i] = X[i].copy()\n",
    "                P_best_fitness[i] = fitness\n",
    "        if np.min(P_best_fitness) < G_best_fitness:\n",
    "            G_best = X[np.argmin(P_best_fitness)].copy()\n",
    "            G_best_fitness = np.min(P_best_fitness)\n",
    "    return G_best"
   ]
  },
  {
   "cell_type": "code",
   "execution_count": 52,
   "id": "bd31fe2e",
   "metadata": {},
   "outputs": [],
   "source": [
    "X_train, X_test, y_train, y_test = train_test_split(X, y, test_size=0.2, random_state=42)\n",
    "X_train = (X_train - np.mean(X_train, axis=0))/np.std(X_train, axis=0)\n",
    "X_test = (X_test - np.mean(X_train, axis=0))/np.std(X_train, axis=0)"
   ]
  },
  {
   "cell_type": "code",
   "execution_count": 53,
   "id": "e8aa7e0e",
   "metadata": {},
   "outputs": [],
   "source": [
    "n_input = 12\n",
    "n_hidden = 2\n",
    "n_output = 1"
   ]
  },
  {
   "cell_type": "code",
   "execution_count": 54,
   "id": "a57c8371",
   "metadata": {},
   "outputs": [],
   "source": [
    "W1 = pso(X_train, y_train, n_particles=20, n_iterations=50)\n",
    "W2 = pso(sigmoid(np.dot(X_train, W1)), y_train, n_particles=20, n_iterations=50)\n",
    "W = [W1, W2]"
   ]
  },
  {
   "cell_type": "code",
   "execution_count": 55,
   "id": "094ea942",
   "metadata": {},
   "outputs": [
    {
     "data": {
      "text/plain": [
       "((4000, 12),\n",
       " array([ 0.00962629,  0.11518522, -0.00636093,  0.02068032,  0.07170373,\n",
       "        -0.03391683, -0.01698916, -0.03407875, -0.16283071,  0.06150837,\n",
       "         0.04086366, -0.04650758]),\n",
       " array([ 0.00408904, -0.00480641, -0.00212348, -0.11378331,  0.00939568,\n",
       "         0.00965159,  0.02713851, -0.02287891,  0.00839009, -0.01461902,\n",
       "        -0.0017095 ,  0.01778349]))"
      ]
     },
     "execution_count": 55,
     "metadata": {},
     "output_type": "execute_result"
    }
   ],
   "source": [
    "X_train.shape,W[0],W[1]"
   ]
  },
  {
   "cell_type": "code",
   "execution_count": 56,
   "id": "12a7a5e4",
   "metadata": {},
   "outputs": [],
   "source": [
    "W[0]=W[0].reshape(12,1)"
   ]
  },
  {
   "cell_type": "code",
   "execution_count": 57,
   "id": "fcd4a2ad",
   "metadata": {},
   "outputs": [],
   "source": [
    "W[1]=W[1].reshape(12,1)"
   ]
  },
  {
   "cell_type": "code",
   "execution_count": 58,
   "id": "31cabeb4",
   "metadata": {},
   "outputs": [],
   "source": [
    "y_pred = sigmoid(X_train)"
   ]
  },
  {
   "cell_type": "code",
   "execution_count": 59,
   "id": "157c6e60",
   "metadata": {},
   "outputs": [
    {
     "data": {
      "text/plain": [
       "array([[0.24729109, 0.24298409, 0.69122923, 0.21324632, 0.23031344,\n",
       "        0.74427953, 0.25953973, 0.36531917, 0.94748412, 0.43717244,\n",
       "        0.22743823, 0.34387081],\n",
       "       [0.24729109, 0.35144422, 0.46793384, 0.36628912, 0.6317787 ,\n",
       "        0.52411117, 0.25953973, 0.36531917, 0.94748412, 0.43717244,\n",
       "        0.6937634 , 0.34387081],\n",
       "       [0.24729109, 0.24298409, 0.89595081, 0.27686039, 0.23031344,\n",
       "        0.91100523, 0.25953973, 0.36531917, 0.41442592, 0.43717244,\n",
       "        0.6937634 , 0.34387081],\n",
       "       [0.59254796, 0.60699199, 0.22884372, 0.49377613, 0.23031344,\n",
       "        0.2941542 , 0.79154758, 0.36531917, 0.41442592, 0.43717244,\n",
       "        0.6937634 , 0.34387081]])"
      ]
     },
     "execution_count": 59,
     "metadata": {},
     "output_type": "execute_result"
    }
   ],
   "source": [
    "y_pred[:4]"
   ]
  },
  {
   "cell_type": "code",
   "execution_count": 60,
   "id": "eaf9b748",
   "metadata": {},
   "outputs": [
    {
     "data": {
      "text/plain": [
       "array([0, 1, 0, 0], dtype=int64)"
      ]
     },
     "execution_count": 60,
     "metadata": {},
     "output_type": "execute_result"
    }
   ],
   "source": [
    "y_test[:4]"
   ]
  }
 ],
 "metadata": {
  "kernelspec": {
   "display_name": "Python 3 (ipykernel)",
   "language": "python",
   "name": "python3"
  },
  "language_info": {
   "codemirror_mode": {
    "name": "ipython",
    "version": 3
   },
   "file_extension": ".py",
   "mimetype": "text/x-python",
   "name": "python",
   "nbconvert_exporter": "python",
   "pygments_lexer": "ipython3",
   "version": "3.9.12"
  }
 },
 "nbformat": 4,
 "nbformat_minor": 5
}
