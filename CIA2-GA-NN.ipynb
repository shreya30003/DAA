{
 "cells": [
  {
   "cell_type": "code",
   "execution_count": 2,
   "id": "d4bf1d3d",
   "metadata": {},
   "outputs": [],
   "source": [
    "import pandas as pd\n",
    "import numpy as np\n",
    "import matplotlib.pyplot as plt\n",
    "import seaborn as sns"
   ]
  },
  {
   "cell_type": "code",
   "execution_count": 3,
   "id": "d5e5d610",
   "metadata": {
    "scrolled": true
   },
   "outputs": [
    {
     "data": {
      "text/html": [
       "<div>\n",
       "<style scoped>\n",
       "    .dataframe tbody tr th:only-of-type {\n",
       "        vertical-align: middle;\n",
       "    }\n",
       "\n",
       "    .dataframe tbody tr th {\n",
       "        vertical-align: top;\n",
       "    }\n",
       "\n",
       "    .dataframe thead th {\n",
       "        text-align: right;\n",
       "    }\n",
       "</style>\n",
       "<table border=\"1\" class=\"dataframe\">\n",
       "  <thead>\n",
       "    <tr style=\"text-align: right;\">\n",
       "      <th></th>\n",
       "      <th>ID</th>\n",
       "      <th>Age</th>\n",
       "      <th>Experience</th>\n",
       "      <th>Income</th>\n",
       "      <th>ZIP Code</th>\n",
       "      <th>Family</th>\n",
       "      <th>CCAvg</th>\n",
       "      <th>Education</th>\n",
       "      <th>Mortgage</th>\n",
       "      <th>Personal Loan</th>\n",
       "      <th>Securities Account</th>\n",
       "      <th>CD Account</th>\n",
       "      <th>Online</th>\n",
       "      <th>CreditCard</th>\n",
       "    </tr>\n",
       "  </thead>\n",
       "  <tbody>\n",
       "    <tr>\n",
       "      <th>0</th>\n",
       "      <td>1</td>\n",
       "      <td>25</td>\n",
       "      <td>1</td>\n",
       "      <td>49</td>\n",
       "      <td>91107</td>\n",
       "      <td>4</td>\n",
       "      <td>1.6</td>\n",
       "      <td>1</td>\n",
       "      <td>0</td>\n",
       "      <td>0</td>\n",
       "      <td>1</td>\n",
       "      <td>0</td>\n",
       "      <td>0</td>\n",
       "      <td>0</td>\n",
       "    </tr>\n",
       "    <tr>\n",
       "      <th>1</th>\n",
       "      <td>2</td>\n",
       "      <td>45</td>\n",
       "      <td>19</td>\n",
       "      <td>34</td>\n",
       "      <td>90089</td>\n",
       "      <td>3</td>\n",
       "      <td>1.5</td>\n",
       "      <td>1</td>\n",
       "      <td>0</td>\n",
       "      <td>0</td>\n",
       "      <td>1</td>\n",
       "      <td>0</td>\n",
       "      <td>0</td>\n",
       "      <td>0</td>\n",
       "    </tr>\n",
       "    <tr>\n",
       "      <th>2</th>\n",
       "      <td>3</td>\n",
       "      <td>39</td>\n",
       "      <td>15</td>\n",
       "      <td>11</td>\n",
       "      <td>94720</td>\n",
       "      <td>1</td>\n",
       "      <td>1.0</td>\n",
       "      <td>1</td>\n",
       "      <td>0</td>\n",
       "      <td>0</td>\n",
       "      <td>0</td>\n",
       "      <td>0</td>\n",
       "      <td>0</td>\n",
       "      <td>0</td>\n",
       "    </tr>\n",
       "    <tr>\n",
       "      <th>3</th>\n",
       "      <td>4</td>\n",
       "      <td>35</td>\n",
       "      <td>9</td>\n",
       "      <td>100</td>\n",
       "      <td>94112</td>\n",
       "      <td>1</td>\n",
       "      <td>2.7</td>\n",
       "      <td>2</td>\n",
       "      <td>0</td>\n",
       "      <td>0</td>\n",
       "      <td>0</td>\n",
       "      <td>0</td>\n",
       "      <td>0</td>\n",
       "      <td>0</td>\n",
       "    </tr>\n",
       "    <tr>\n",
       "      <th>4</th>\n",
       "      <td>5</td>\n",
       "      <td>35</td>\n",
       "      <td>8</td>\n",
       "      <td>45</td>\n",
       "      <td>91330</td>\n",
       "      <td>4</td>\n",
       "      <td>1.0</td>\n",
       "      <td>2</td>\n",
       "      <td>0</td>\n",
       "      <td>0</td>\n",
       "      <td>0</td>\n",
       "      <td>0</td>\n",
       "      <td>0</td>\n",
       "      <td>1</td>\n",
       "    </tr>\n",
       "  </tbody>\n",
       "</table>\n",
       "</div>"
      ],
      "text/plain": [
       "   ID  Age  Experience  Income  ZIP Code  Family  CCAvg  Education  Mortgage  \\\n",
       "0   1   25           1      49     91107       4    1.6          1         0   \n",
       "1   2   45          19      34     90089       3    1.5          1         0   \n",
       "2   3   39          15      11     94720       1    1.0          1         0   \n",
       "3   4   35           9     100     94112       1    2.7          2         0   \n",
       "4   5   35           8      45     91330       4    1.0          2         0   \n",
       "\n",
       "   Personal Loan  Securities Account  CD Account  Online  CreditCard  \n",
       "0              0                   1           0       0           0  \n",
       "1              0                   1           0       0           0  \n",
       "2              0                   0           0       0           0  \n",
       "3              0                   0           0       0           0  \n",
       "4              0                   0           0       0           1  "
      ]
     },
     "execution_count": 3,
     "metadata": {},
     "output_type": "execute_result"
    }
   ],
   "source": [
    "df = pd.read_csv(r'C:\\Users\\Admin\\Desktop\\Cs\\MLT\\Datasource\\Bank_Personal_Loan_Modelling.csv')\n",
    "df.head()"
   ]
  },
  {
   "cell_type": "code",
   "execution_count": 4,
   "id": "66b417df",
   "metadata": {},
   "outputs": [],
   "source": [
    "df.drop(['ID'],inplace=True,axis=1)"
   ]
  },
  {
   "cell_type": "code",
   "execution_count": 5,
   "id": "991163ce",
   "metadata": {},
   "outputs": [
    {
     "name": "stdout",
     "output_type": "stream",
     "text": [
      "<class 'pandas.core.frame.DataFrame'>\n",
      "RangeIndex: 5000 entries, 0 to 4999\n",
      "Data columns (total 13 columns):\n",
      " #   Column              Non-Null Count  Dtype  \n",
      "---  ------              --------------  -----  \n",
      " 0   Age                 5000 non-null   int64  \n",
      " 1   Experience          5000 non-null   int64  \n",
      " 2   Income              5000 non-null   int64  \n",
      " 3   ZIP Code            5000 non-null   int64  \n",
      " 4   Family              5000 non-null   int64  \n",
      " 5   CCAvg               5000 non-null   float64\n",
      " 6   Education           5000 non-null   int64  \n",
      " 7   Mortgage            5000 non-null   int64  \n",
      " 8   Personal Loan       5000 non-null   int64  \n",
      " 9   Securities Account  5000 non-null   int64  \n",
      " 10  CD Account          5000 non-null   int64  \n",
      " 11  Online              5000 non-null   int64  \n",
      " 12  CreditCard          5000 non-null   int64  \n",
      "dtypes: float64(1), int64(12)\n",
      "memory usage: 507.9 KB\n"
     ]
    }
   ],
   "source": [
    "df.info()"
   ]
  },
  {
   "cell_type": "code",
   "execution_count": 6,
   "id": "b661f002",
   "metadata": {},
   "outputs": [
    {
     "data": {
      "text/plain": [
       "Age                    45\n",
       "Experience             47\n",
       "Income                162\n",
       "ZIP Code              467\n",
       "Family                  4\n",
       "CCAvg                 108\n",
       "Education               3\n",
       "Mortgage              347\n",
       "Personal Loan           2\n",
       "Securities Account      2\n",
       "CD Account              2\n",
       "Online                  2\n",
       "CreditCard              2\n",
       "dtype: int64"
      ]
     },
     "execution_count": 6,
     "metadata": {},
     "output_type": "execute_result"
    }
   ],
   "source": [
    "df.nunique()"
   ]
  },
  {
   "cell_type": "code",
   "execution_count": 7,
   "id": "808cfeeb",
   "metadata": {},
   "outputs": [
    {
     "data": {
      "text/plain": [
       "<AxesSubplot:xlabel='Personal Loan', ylabel='count'>"
      ]
     },
     "execution_count": 7,
     "metadata": {},
     "output_type": "execute_result"
    },
    {
     "data": {
      "image/png": "[encoded data removed]",
      "text/plain": [
       "<Figure size 432x288 with 1 Axes>"
      ]
     },
     "metadata": {
      "needs_background": "light"
     },
     "output_type": "display_data"
    }
   ],
   "source": [
    "sns.countplot(x='Personal Loan',data=df)"
   ]
  },
  {
   "cell_type": "code",
   "execution_count": 8,
   "id": "eaae0a85",
   "metadata": {},
   "outputs": [],
   "source": [
    "df['Age'] = pd.cut(df['Age'],bins=[23,30,45,67],labels=['Young','Adult','Old'])"
   ]
  },
  {
   "cell_type": "code",
   "execution_count": 9,
   "id": "b04411f7",
   "metadata": {},
   "outputs": [
    {
     "data": {
      "text/html": [
       "<div>\n",
       "<style scoped>\n",
       "    .dataframe tbody tr th:only-of-type {\n",
       "        vertical-align: middle;\n",
       "    }\n",
       "\n",
       "    .dataframe tbody tr th {\n",
       "        vertical-align: top;\n",
       "    }\n",
       "\n",
       "    .dataframe thead th {\n",
       "        text-align: right;\n",
       "    }\n",
       "</style>\n",
       "<table border=\"1\" class=\"dataframe\">\n",
       "  <thead>\n",
       "    <tr style=\"text-align: right;\">\n",
       "      <th></th>\n",
       "      <th>Age</th>\n",
       "      <th>Experience</th>\n",
       "      <th>Income</th>\n",
       "      <th>ZIP Code</th>\n",
       "      <th>Family</th>\n",
       "      <th>CCAvg</th>\n",
       "      <th>Education</th>\n",
       "      <th>Mortgage</th>\n",
       "      <th>Personal Loan</th>\n",
       "      <th>Securities Account</th>\n",
       "      <th>CD Account</th>\n",
       "      <th>Online</th>\n",
       "      <th>CreditCard</th>\n",
       "    </tr>\n",
       "  </thead>\n",
       "  <tbody>\n",
       "    <tr>\n",
       "      <th>0</th>\n",
       "      <td>Young</td>\n",
       "      <td>1</td>\n",
       "      <td>49</td>\n",
       "      <td>91107</td>\n",
       "      <td>4</td>\n",
       "      <td>1.6</td>\n",
       "      <td>1</td>\n",
       "      <td>0</td>\n",
       "      <td>0</td>\n",
       "      <td>1</td>\n",
       "      <td>0</td>\n",
       "      <td>0</td>\n",
       "      <td>0</td>\n",
       "    </tr>\n",
       "    <tr>\n",
       "      <th>1</th>\n",
       "      <td>Adult</td>\n",
       "      <td>19</td>\n",
       "      <td>34</td>\n",
       "      <td>90089</td>\n",
       "      <td>3</td>\n",
       "      <td>1.5</td>\n",
       "      <td>1</td>\n",
       "      <td>0</td>\n",
       "      <td>0</td>\n",
       "      <td>1</td>\n",
       "      <td>0</td>\n",
       "      <td>0</td>\n",
       "      <td>0</td>\n",
       "    </tr>\n",
       "    <tr>\n",
       "      <th>2</th>\n",
       "      <td>Adult</td>\n",
       "      <td>15</td>\n",
       "      <td>11</td>\n",
       "      <td>94720</td>\n",
       "      <td>1</td>\n",
       "      <td>1.0</td>\n",
       "      <td>1</td>\n",
       "      <td>0</td>\n",
       "      <td>0</td>\n",
       "      <td>0</td>\n",
       "      <td>0</td>\n",
       "      <td>0</td>\n",
       "      <td>0</td>\n",
       "    </tr>\n",
       "    <tr>\n",
       "      <th>3</th>\n",
       "      <td>Adult</td>\n",
       "      <td>9</td>\n",
       "      <td>100</td>\n",
       "      <td>94112</td>\n",
       "      <td>1</td>\n",
       "      <td>2.7</td>\n",
       "      <td>2</td>\n",
       "      <td>0</td>\n",
       "      <td>0</td>\n",
       "      <td>0</td>\n",
       "      <td>0</td>\n",
       "      <td>0</td>\n",
       "      <td>0</td>\n",
       "    </tr>\n",
       "    <tr>\n",
       "      <th>4</th>\n",
       "      <td>Adult</td>\n",
       "      <td>8</td>\n",
       "      <td>45</td>\n",
       "      <td>91330</td>\n",
       "      <td>4</td>\n",
       "      <td>1.0</td>\n",
       "      <td>2</td>\n",
       "      <td>0</td>\n",
       "      <td>0</td>\n",
       "      <td>0</td>\n",
       "      <td>0</td>\n",
       "      <td>0</td>\n",
       "      <td>1</td>\n",
       "    </tr>\n",
       "  </tbody>\n",
       "</table>\n",
       "</div>"
      ],
      "text/plain": [
       "     Age  Experience  Income  ZIP Code  Family  CCAvg  Education  Mortgage  \\\n",
       "0  Young           1      49     91107       4    1.6          1         0   \n",
       "1  Adult          19      34     90089       3    1.5          1         0   \n",
       "2  Adult          15      11     94720       1    1.0          1         0   \n",
       "3  Adult           9     100     94112       1    2.7          2         0   \n",
       "4  Adult           8      45     91330       4    1.0          2         0   \n",
       "\n",
       "   Personal Loan  Securities Account  CD Account  Online  CreditCard  \n",
       "0              0                   1           0       0           0  \n",
       "1              0                   1           0       0           0  \n",
       "2              0                   0           0       0           0  \n",
       "3              0                   0           0       0           0  \n",
       "4              0                   0           0       0           1  "
      ]
     },
     "execution_count": 9,
     "metadata": {},
     "output_type": "execute_result"
    }
   ],
   "source": [
    "df.head()"
   ]
  },
  {
   "cell_type": "code",
   "execution_count": 10,
   "id": "b2be38be",
   "metadata": {},
   "outputs": [
    {
     "data": {
      "text/plain": [
       "Old      2481\n",
       "Adult    1895\n",
       "Young     612\n",
       "Name: Age, dtype: int64"
      ]
     },
     "execution_count": 10,
     "metadata": {},
     "output_type": "execute_result"
    }
   ],
   "source": [
    "df['Age'].value_counts()"
   ]
  },
  {
   "cell_type": "code",
   "execution_count": 11,
   "id": "a1a2cb47",
   "metadata": {},
   "outputs": [],
   "source": [
    "from sklearn.preprocessing import LabelEncoder\n",
    "le = LabelEncoder()\n",
    "df['Age'] = le.fit_transform(df['Age'])"
   ]
  },
  {
   "cell_type": "code",
   "execution_count": 12,
   "id": "a3154c6f",
   "metadata": {},
   "outputs": [
    {
     "data": {
      "text/plain": [
       "Index(['Age', 'Experience', 'Income', 'ZIP Code', 'Family', 'CCAvg',\n",
       "       'Education', 'Mortgage', 'Personal Loan', 'Securities Account',\n",
       "       'CD Account', 'Online', 'CreditCard'],\n",
       "      dtype='object')"
      ]
     },
     "execution_count": 12,
     "metadata": {},
     "output_type": "execute_result"
    }
   ],
   "source": [
    "df.columns"
   ]
  },
  {
   "cell_type": "code",
   "execution_count": 13,
   "id": "d5f93f28",
   "metadata": {},
   "outputs": [],
   "source": [
    "col = ['Age', 'Experience', 'Income', 'ZIP Code', 'Family', 'CCAvg', 'Education', \n",
    "       'Mortgage', 'Securities Account','CD Account', 'Online', 'CreditCard', 'Personal Loan']\n",
    "df = df[col]"
   ]
  },
  {
   "cell_type": "code",
   "execution_count": 14,
   "id": "749bef1e",
   "metadata": {},
   "outputs": [],
   "source": [
    "x = df.iloc[:,:-1].values\n",
    "y = df.iloc[:,-1].values"
   ]
  },
  {
   "cell_type": "code",
   "execution_count": 15,
   "id": "7c85bf23",
   "metadata": {},
   "outputs": [],
   "source": [
    "from sklearn.model_selection import train_test_split\n",
    "x_train, x_test, y_train, y_test = train_test_split(x,y,test_size=0.25)"
   ]
  },
  {
   "cell_type": "code",
   "execution_count": 16,
   "id": "5c972f91",
   "metadata": {},
   "outputs": [],
   "source": [
    "from keras.models import Sequential\n",
    "from keras.layers import Dense\n",
    "\n",
    "keras = Sequential()\n",
    "keras.add(Dense(12,input_dim=12,activation='relu'))\n",
    "keras.add(Dense(8,activation='relu'))\n",
    "keras.add(Dense(6,activation='relu'))"
   ]
  },
  {
   "cell_type": "code",
   "execution_count": 17,
   "id": "a91fa876",
   "metadata": {},
   "outputs": [],
   "source": [
    "keras.add(Dense(1,activation='sigmoid'))"
   ]
  },
  {
   "cell_type": "code",
   "execution_count": 18,
   "id": "0b436a33",
   "metadata": {},
   "outputs": [],
   "source": [
    "keras.compile(optimizer='adam',loss='binary_crossentropy',metrics=['accuracy'])"
   ]
  },
  {
   "cell_type": "code",
   "execution_count": 19,
   "id": "87965863",
   "metadata": {},
   "outputs": [
    {
     "name": "stdout",
     "output_type": "stream",
     "text": [
      "Epoch 1/20\n",
      "150/150 [==============================] - 2s 2ms/step - loss: 14.9186 - accuracy: 0.8365\n",
      "Epoch 2/20\n",
      "150/150 [==============================] - 0s 3ms/step - loss: 4.3132 - accuracy: 0.8408\n",
      "Epoch 3/20\n",
      "150/150 [==============================] - 1s 3ms/step - loss: 3.3585 - accuracy: 0.8365\n",
      "Epoch 4/20\n",
      "150/150 [==============================] - 1s 4ms/step - loss: 3.3108 - accuracy: 0.8536\n",
      "Epoch 5/20\n",
      "150/150 [==============================] - 0s 3ms/step - loss: 2.3802 - accuracy: 0.8683\n",
      "Epoch 6/20\n",
      "150/150 [==============================] - 0s 3ms/step - loss: 2.1479 - accuracy: 0.8691\n",
      "Epoch 7/20\n",
      "150/150 [==============================] - 1s 3ms/step - loss: 1.8004 - accuracy: 0.8779\n",
      "Epoch 8/20\n",
      "150/150 [==============================] - 0s 2ms/step - loss: 2.9711 - accuracy: 0.8659\n",
      "Epoch 9/20\n",
      "150/150 [==============================] - 0s 2ms/step - loss: 2.7417 - accuracy: 0.8728\n",
      "Epoch 10/20\n",
      "150/150 [==============================] - 0s 2ms/step - loss: 2.4952 - accuracy: 0.8608\n",
      "Epoch 11/20\n",
      "150/150 [==============================] - 0s 2ms/step - loss: 1.3786 - accuracy: 0.8792\n",
      "Epoch 12/20\n",
      "150/150 [==============================] - 0s 2ms/step - loss: 3.5394 - accuracy: 0.8560\n",
      "Epoch 13/20\n",
      "150/150 [==============================] - 0s 3ms/step - loss: 1.2862 - accuracy: 0.8909\n",
      "Epoch 14/20\n",
      "150/150 [==============================] - 0s 1ms/step - loss: 1.3817 - accuracy: 0.8843\n",
      "Epoch 15/20\n",
      "150/150 [==============================] - 0s 2ms/step - loss: 1.4718 - accuracy: 0.8744\n",
      "Epoch 16/20\n",
      "150/150 [==============================] - 0s 1ms/step - loss: 2.2486 - accuracy: 0.8709\n",
      "Epoch 17/20\n",
      "150/150 [==============================] - 0s 2ms/step - loss: 1.1926 - accuracy: 0.8899\n",
      "Epoch 18/20\n",
      "150/150 [==============================] - 0s 2ms/step - loss: 1.7992 - accuracy: 0.8712\n",
      "Epoch 19/20\n",
      "150/150 [==============================] - 0s 3ms/step - loss: 1.9509 - accuracy: 0.8693\n",
      "Epoch 20/20\n",
      "150/150 [==============================] - 1s 4ms/step - loss: 2.5924 - accuracy: 0.8685\n"
     ]
    },
    {
     "data": {
      "text/plain": [
       "<keras.callbacks.History at 0x1cdb0c21f40>"
      ]
     },
     "execution_count": 19,
     "metadata": {},
     "output_type": "execute_result"
    }
   ],
   "source": [
    "keras.fit(x_train,y_train,epochs=20,batch_size=25)"
   ]
  },
  {
   "cell_type": "code",
   "execution_count": 20,
   "id": "d42ca270",
   "metadata": {},
   "outputs": [
    {
     "name": "stdout",
     "output_type": "stream",
     "text": [
      "118/118 [==============================] - 1s 3ms/step - loss: 0.9049 - accuracy: 0.9112\n",
      "91.11999869346619\n"
     ]
    }
   ],
   "source": [
    "_,acc = keras.evaluate(x_train,y_train)\n",
    "print(acc*100)"
   ]
  },
  {
   "cell_type": "code",
   "execution_count": 21,
   "id": "24b09c07",
   "metadata": {},
   "outputs": [
    {
     "name": "stdout",
     "output_type": "stream",
     "text": [
      "40/40 [==============================] - 0s 1ms/step\n"
     ]
    }
   ],
   "source": [
    "y_pred = keras.predict(x_test)\n",
    "y_pred = (y_pred>0.5)"
   ]
  },
  {
   "cell_type": "code",
   "execution_count": 22,
   "id": "57c2dc33",
   "metadata": {},
   "outputs": [
    {
     "data": {
      "text/plain": [
       "0.8872"
      ]
     },
     "execution_count": 22,
     "metadata": {},
     "output_type": "execute_result"
    }
   ],
   "source": [
    "from sklearn.metrics import accuracy_score\n",
    "accuracy_score(y_test,y_pred)"
   ]
  },
  {
   "cell_type": "code",
   "execution_count": 23,
   "id": "17d13391",
   "metadata": {},
   "outputs": [],
   "source": [
    "from keras import backend as K\n",
    "def r_loss(y_test,y_pred):\n",
    "    res=K.sum(K.square(y_test-y_pred))    \n",
    "    total=K.sum(K.square(y_test-K.mean(y_test)))\n",
    "    return 1-(1-res/(total+K.epsilon()))"
   ]
  },
  {
   "cell_type": "markdown",
   "id": "df903b19",
   "metadata": {},
   "source": [
    "## Genetic Algorithm"
   ]
  },
  {
   "cell_type": "code",
   "execution_count": 24,
   "id": "cc04bab0",
   "metadata": {},
   "outputs": [],
   "source": [
    "from keras.layers import LSTM, Dropout, Dense, TimeDistributed, Activation\n",
    "ga = Sequential()\n",
    "ga.add(LSTM(32,return_sequences=False, input_shape=(None,1),name='1'))"
   ]
  },
  {
   "cell_type": "code",
   "execution_count": 25,
   "id": "3d554ac2",
   "metadata": {},
   "outputs": [],
   "source": [
    "def rmse(y_test,y_pred):\n",
    "    return np.sqrt(np.square(y_pred-y_test),axis=1)"
   ]
  },
  {
   "cell_type": "code",
   "execution_count": 27,
   "id": "832f868e",
   "metadata": {},
   "outputs": [],
   "source": [
    "ga.compile(loss='mean_squared_error',optimizer='sgd',metrics=['mean_squared_error',r_loss])"
   ]
  },
  {
   "cell_type": "code",
   "execution_count": 28,
   "id": "bd53d58b",
   "metadata": {},
   "outputs": [],
   "source": [
    "def Fitness(par):\n",
    "    l1=ga.get_layer('1').get_weights()\n",
    "    l2=ga.get_layer('2').get_weights()\n",
    "    l1_w1_shape=(l1[0].shape[0]*l1[0].shape[1])\n",
    "    l1_w2_shape=l1_w1_shape+(l1[1].shape[0]*l1[1].shape[1])\n",
    "    l1_B_shape=l1_w2_shape+(l1[2].shape[0])\n",
    "    l2_w_shape=l1_B_shape+(l2[0].shape[0]*l2[0].shape[1])\n",
    "    l2_B_shape=l2_w_shape+(l2[1].shape[0])\n",
    "    l1_w1=par[0:l1_w1_shape].reshape(l1[0].shape)\n",
    "    l1_w2=par[0:l1_w1_shape:l1_w2_shape].reshape(l1[1].shape)\n",
    "    l1_B=par[l1_w2_shape:l1_B_shape].reshape(l1[2].shape)\n",
    "    l2_w=par[l1_B_shape:l2_w_shape].reshape(l2[0].shape)\n",
    "    L2_B=par[l2_w_shape:l2_B_shape].reshape(l2[1].shape)\n",
    "    \n",
    "    ga.get_layer('1').set_weights([l1_w1,l1_w2,l1_B])\n",
    "    ga.get_layer('2').set_weights([l2_w,l2_B])\n",
    "    \n",
    "    pred=ga.predict(x_train)\n",
    "    loss=rmse(y_train.reshape(y_train.shape[0]),y_pred.reshape(y_train.shape[0]))\n",
    "    return loss"
   ]
  },
  {
   "cell_type": "code",
   "execution_count": 29,
   "id": "14cdd189",
   "metadata": {},
   "outputs": [],
   "source": [
    "def fun(par):\n",
    "    print('no of particles ',par.shape[0])\n",
    "    loss1=np.array([Fitness(par[i]) for i in range(par.shape[0])])\n",
    "    return loss1"
   ]
  },
  {
   "cell_type": "code",
   "execution_count": 30,
   "id": "f3628090",
   "metadata": {},
   "outputs": [
    {
     "name": "stdout",
     "output_type": "stream",
     "text": [
      "40/40 [==============================] - 1s 3ms/step\n"
     ]
    }
   ],
   "source": [
    "predY=ga.predict(x_test)"
   ]
  },
  {
   "cell_type": "code",
   "execution_count": 31,
   "id": "fc84cf4f",
   "metadata": {},
   "outputs": [
    {
     "name": "stdout",
     "output_type": "stream",
     "text": [
      "40/40 [==============================] - 1s 3ms/step - loss: 0.1483 - mean_squared_error: 0.1483 - r_loss: 6828435.0000\n"
     ]
    }
   ],
   "source": [
    "loss_GA=ga.evaluate(x_test,y_test)"
   ]
  },
  {
   "cell_type": "code",
   "execution_count": 32,
   "id": "9b6f4860",
   "metadata": {},
   "outputs": [
    {
     "data": {
      "text/plain": [
       "[0.14827178418636322, 0.14827178418636322, 6828435.0]"
      ]
     },
     "execution_count": 32,
     "metadata": {},
     "output_type": "execute_result"
    }
   ],
   "source": [
    "loss_GA"
   ]
  },
  {
   "cell_type": "code",
   "execution_count": 33,
   "id": "bae20c50",
   "metadata": {},
   "outputs": [
    {
     "data": {
      "text/plain": [
       "0.14827178418636322"
      ]
     },
     "execution_count": 33,
     "metadata": {},
     "output_type": "execute_result"
    }
   ],
   "source": [
    "loss_GA[0]"
   ]
  },
  {
   "cell_type": "code",
   "execution_count": 34,
   "id": "0c57576b",
   "metadata": {},
   "outputs": [
    {
     "name": "stdout",
     "output_type": "stream",
     "text": [
      "40/40 [==============================] - 0s 2ms/step - loss: 1.1078 - accuracy: 0.8872\n"
     ]
    }
   ],
   "source": [
    " lossNN=keras.evaluate(x_test,y_test)"
   ]
  },
  {
   "cell_type": "code",
   "execution_count": null,
   "id": "72d9fcd1",
   "metadata": {},
   "outputs": [],
   "source": []
  },
  {
   "cell_type": "code",
   "execution_count": null,
   "id": "d9957621",
   "metadata": {},
   "outputs": [],
   "source": [
    "from tensorflow.keras.optimizers import Adam\n",
    "num_generations = 10\n",
    "population_size = 10\n",
    "mutation_rate = 0.1\n",
    "crossover_rate = 0.8\n",
    "num_parents = 5\n",
    "num_elites = 1\n",
    "num_population =20"
   ]
  },
  {
   "cell_type": "code",
   "execution_count": null,
   "id": "be0c3f81",
   "metadata": {},
   "outputs": [],
   "source": [
    "num_input = x_train.shape[1]\n",
    "num_output = len(np.unique(y_train))\n",
    "num_hidden_layers = 2\n",
    "num_neurons = 16\n",
    "activation = 'relu'"
   ]
  },
  {
   "cell_type": "code",
   "execution_count": null,
   "id": "613db5c2",
   "metadata": {},
   "outputs": [],
   "source": [
    "def create_model(num_input, num_output, num_hidden_layers, num_neurons, activation):\n",
    "    model = Sequential()\n",
    "    model.add(Dense(num_neurons, input_dim=num_input, activation=activation))\n",
    "    for i in range(num_hidden_layers-1):\n",
    "        model.add(Dense(num_neurons, activation=activation))\n",
    "    model.add(Dense(num_output, activation='softmax'))\n",
    "    optimizer = Adam(lr=0.001)\n",
    "    model.compile(loss='sparse_categorical_crossentropy', optimizer=optimizer, metrics=['accuracy'])\n",
    "    return model"
   ]
  },
  {
   "cell_type": "code",
   "execution_count": null,
   "id": "52cfb1a0",
   "metadata": {},
   "outputs": [],
   "source": [
    "def train_model(model, X_train, y_train):\n",
    "    model.fit(X_train, y_train, epochs=5, batch_size=32, verbose=0)\n",
    "    return model\n",
    "\n",
    "def evaluate_model(model, X_test, y_test):\n",
    "    loss, accuracy = model.evaluate(X_test, y_test, verbose=0)\n",
    "    return accuracy"
   ]
  },
  {
   "cell_type": "code",
   "execution_count": null,
   "id": "2a906e72",
   "metadata": {},
   "outputs": [],
   "source": [
    "def fitness_function(individual, X_train, y_train, X_test, y_test):\n",
    "    num_input = X_train.shape[1]\n",
    "    num_output = len(np.unique(y_train))\n",
    "    num_hidden_layers = individual[0]\n",
    "    num_neurons = individual[1]\n",
    "    activation = individual[2]\n",
    "    model = create_model(num_input, num_output, num_hidden_layers, num_neurons, activation)\n",
    "    model = train_model(model, X_train, y_train)\n",
    "    accuracy = evaluate_model(model, X_test, y_test)\n",
    "    return accuracy"
   ]
  },
  {
   "cell_type": "code",
   "execution_count": null,
   "id": "95f1d3e1",
   "metadata": {},
   "outputs": [],
   "source": [
    "def initialize_population(num_population, num_hidden_layers, num_neurons, activation):\n",
    "    population = []\n",
    "    for i in range(num_population):\n",
    "        individual = [num_hidden_layers, num_neurons, activation]\n",
    "        population.append(individual)\n",
    "    return population\n",
    "\n",
    "population = initialize_population(population_size, num_hidden_layers, num_neurons, activation)"
   ]
  },
  {
   "cell_type": "code",
   "execution_count": null,
   "id": "a1b8bbfd",
   "metadata": {},
   "outputs": [],
   "source": [
    "for generation in range(num_generations):\n",
    "    fitness_scores = []\n",
    "    for individual in population:\n",
    "        fitness_scores.append(fitness_function(individual, x_train, y_train, x_test, y_test))\n",
    "    sorted_population = [x for _, x in sorted(zip(fitness_scores, population), reverse=True)]\n",
    "    elites = sorted_population[:num_elites]\n",
    "    parents = sorted_population[:num_parents]\n",
    "    for individual in parents:\n",
    "        population.remove(individual)\n",
    "    offspring = []\n",
    "    for i in range(num_population - num_elites):\n",
    "        parent1 = np.random.choice(parents)\n",
    "        parent2 = np.random.choice(parents)\n",
    "        offspring1 = parent1.copy()\n",
    "        offspring2 = parent2.copy()\n",
    "        for j in range(len(parent1)):\n",
    "            if np.random.uniform() < crossover_rate:\n",
    "                offspring1[j] = parent2[j]\n",
    "                offspring2[j] = parent1[j]\n",
    "        for j in range(len(parent1)):\n",
    "            if np.random.uniform() < mutation_rate:\n",
    "                if j == 0:\n",
    "                    offspring1[j] = np.random.randint(1, 4)\n",
    "                    offspring2[j] = np.random.randint(1, 4)\n",
    "                elif j == 1:\n",
    "                    offspring1[j] = np.random.randint(2, 32)\n",
    "                    offspring2[j] = np.random.randint(2, 32)\n",
    "                else:\n",
    "                    offspring1[j] = np.random.choice(['relu', 'sigmoid'])\n",
    "                    offspring2[j] = np.random.choice(['relu', 'sigmoid'])\n",
    "        offspring.append(offspring1)\n",
    "        offspring.append(offspring2)\n",
    "    population = elites + offspring"
   ]
  },
  {
   "cell_type": "code",
   "execution_count": null,
   "id": "cb9e316e",
   "metadata": {},
   "outputs": [],
   "source": [
    "best_individual = [sorted_population[0]]\n",
    "hidden_layers = []\n",
    "for i in range(best_individual[0]):\n",
    "    hidden_layers.append(best_individual[i+1])\n",
    "activation_functions = []\n",
    "for i in range(best_individual[0]+1, len(best_individual)):\n",
    "    activation_functions.append(best_individual[i])\n",
    "    \n",
    "model = create_model(hidden_layers, activation_functions)\n",
    "model.compile(optimizer='adam', loss='binary_crossentropy', metrics=['accuracy'])\n",
    "model.fit(x_train, y_train, epochs=num_epochs, validation_data=(x_test, y_test), batch_size=batch_size, verbose=0)"
   ]
  },
  {
   "cell_type": "code",
   "execution_count": 35,
   "id": "1c2d833d",
   "metadata": {},
   "outputs": [
    {
     "name": "stdout",
     "output_type": "stream",
     "text": [
      "40/40 [==============================] - 0s 2ms/step - loss: 1.1078 - accuracy: 0.8872\n",
      "Test loss: 1.107804536819458\n",
      "Test accuracy: 88.71999979019165\n"
     ]
    }
   ],
   "source": [
    "test_loss, test_accuracy = keras.evaluate(x_test, y_test)\n",
    "print('Test loss:', test_loss)\n",
    "print('Test accuracy:', test_accuracy*100)"
   ]
  }
 ],
 "metadata": {
  "kernelspec": {
   "display_name": "Python 3 (ipykernel)",
   "language": "python",
   "name": "python3"
  },
  "language_info": {
   "codemirror_mode": {
    "name": "ipython",
    "version": 3
   },
   "file_extension": ".py",
   "mimetype": "text/x-python",
   "name": "python",
   "nbconvert_exporter": "python",
   "pygments_lexer": "ipython3",
   "version": "3.9.12"
  }
 },
 "nbformat": 4,
 "nbformat_minor": 5
}
